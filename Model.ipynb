{
 "cells": [
  {
   "cell_type": "code",
   "execution_count": 1,
   "metadata": {},
   "outputs": [
    {
     "name": "stderr",
     "output_type": "stream",
     "text": [
      "Using TensorFlow backend.\n"
     ]
    }
   ],
   "source": [
    "import pandas as pd\n",
    "import numpy as np\n",
    "\n",
    "from keras import backend as K\n",
    "K.set_image_dim_ordering('tf')\n",
    "\n",
    "from keras.utils import np_utils\n",
    "from keras.models import Sequential\n",
    "from keras.layers.core import Dense, Dropout, Activation, Flatten\n",
    "from keras.layers.convolutional import Convolution2D, MaxPooling2D\n",
    "from keras.layers.normalization import BatchNormalization\n",
    "from keras.optimizers import SGD, RMSprop, Adam"
   ]
  },
  {
   "cell_type": "code",
   "execution_count": 2,
   "metadata": {},
   "outputs": [],
   "source": [
    "data = pd.read_pickle(\"sarcasmv3.pkl\")"
   ]
  },
  {
   "cell_type": "code",
   "execution_count": 3,
   "metadata": {},
   "outputs": [
    {
     "data": {
      "text/html": [
       "<div>\n",
       "<style scoped>\n",
       "    .dataframe tbody tr th:only-of-type {\n",
       "        vertical-align: middle;\n",
       "    }\n",
       "\n",
       "    .dataframe tbody tr th {\n",
       "        vertical-align: top;\n",
       "    }\n",
       "\n",
       "    .dataframe thead th {\n",
       "        text-align: right;\n",
       "    }\n",
       "</style>\n",
       "<table border=\"1\" class=\"dataframe\">\n",
       "  <thead>\n",
       "    <tr style=\"text-align: right;\">\n",
       "      <th></th>\n",
       "      <th>author</th>\n",
       "      <th>comment</th>\n",
       "      <th>subreddit</th>\n",
       "      <th>parent_comment</th>\n",
       "      <th>label</th>\n",
       "      <th>comment_token</th>\n",
       "      <th>parent_comment_token</th>\n",
       "    </tr>\n",
       "  </thead>\n",
       "  <tbody>\n",
       "    <tr>\n",
       "      <th>0</th>\n",
       "      <td>Trumpbart</td>\n",
       "      <td>nc and nh</td>\n",
       "      <td>politics</td>\n",
       "      <td>yeah i get that argument at this point i'd pre...</td>\n",
       "      <td>0</td>\n",
       "      <td>[nc, and, nh]</td>\n",
       "      <td>[yeah, i, get, that, argument, at, this, point...</td>\n",
       "    </tr>\n",
       "    <tr>\n",
       "      <th>1</th>\n",
       "      <td>Shbshb906</td>\n",
       "      <td>you do know west teams play against west teams...</td>\n",
       "      <td>nba</td>\n",
       "      <td>the blazers and mavericks the wests 5 and 6 se...</td>\n",
       "      <td>0</td>\n",
       "      <td>[you, do, know, west, teams, play, against, we...</td>\n",
       "      <td>[the, blazers, and, mavericks, the, wests, 5, ...</td>\n",
       "    </tr>\n",
       "    <tr>\n",
       "      <th>2</th>\n",
       "      <td>Creepeth</td>\n",
       "      <td>they were underdogs earlier today but since gr...</td>\n",
       "      <td>nfl</td>\n",
       "      <td>they're favored to win</td>\n",
       "      <td>0</td>\n",
       "      <td>[they, were, underdogs, earlier, today, but, s...</td>\n",
       "      <td>[they're, favored, to, win]</td>\n",
       "    </tr>\n",
       "    <tr>\n",
       "      <th>3</th>\n",
       "      <td>icebrotha</td>\n",
       "      <td>this meme isn't funny none of the \"new york ni...</td>\n",
       "      <td>BlackPeopleTwitter</td>\n",
       "      <td>deadass don't kill my buzz</td>\n",
       "      <td>0</td>\n",
       "      <td>[this, meme, isn't, funny, none, of, the, \", n...</td>\n",
       "      <td>[deadass, don't, kill, my, buzz]</td>\n",
       "    </tr>\n",
       "    <tr>\n",
       "      <th>4</th>\n",
       "      <td>cush2push</td>\n",
       "      <td>i could use one of those tools</td>\n",
       "      <td>MaddenUltimateTeam</td>\n",
       "      <td>yep can confirm i saw the tool they use for th...</td>\n",
       "      <td>0</td>\n",
       "      <td>[i, could, use, one, of, those, tools]</td>\n",
       "      <td>[yep, can, confirm, i, saw, the, tool, they, u...</td>\n",
       "    </tr>\n",
       "  </tbody>\n",
       "</table>\n",
       "</div>"
      ],
      "text/plain": [
       "      author                                            comment  \\\n",
       "0  Trumpbart                                         nc and nh    \n",
       "1  Shbshb906  you do know west teams play against west teams...   \n",
       "2   Creepeth  they were underdogs earlier today but since gr...   \n",
       "3  icebrotha  this meme isn't funny none of the \"new york ni...   \n",
       "4  cush2push                    i could use one of those tools    \n",
       "\n",
       "            subreddit                                     parent_comment  \\\n",
       "0            politics  yeah i get that argument at this point i'd pre...   \n",
       "1                 nba  the blazers and mavericks the wests 5 and 6 se...   \n",
       "2                 nfl                            they're favored to win    \n",
       "3  BlackPeopleTwitter                         deadass don't kill my buzz   \n",
       "4  MaddenUltimateTeam  yep can confirm i saw the tool they use for th...   \n",
       "\n",
       "   label                                      comment_token  \\\n",
       "0      0                                      [nc, and, nh]   \n",
       "1      0  [you, do, know, west, teams, play, against, we...   \n",
       "2      0  [they, were, underdogs, earlier, today, but, s...   \n",
       "3      0  [this, meme, isn't, funny, none, of, the, \", n...   \n",
       "4      0             [i, could, use, one, of, those, tools]   \n",
       "\n",
       "                                parent_comment_token  \n",
       "0  [yeah, i, get, that, argument, at, this, point...  \n",
       "1  [the, blazers, and, mavericks, the, wests, 5, ...  \n",
       "2                        [they're, favored, to, win]  \n",
       "3                   [deadass, don't, kill, my, buzz]  \n",
       "4  [yep, can, confirm, i, saw, the, tool, they, u...  "
      ]
     },
     "execution_count": 3,
     "metadata": {},
     "output_type": "execute_result"
    }
   ],
   "source": [
    "data.head()"
   ]
  }
 ],
 "metadata": {
  "kernelspec": {
   "display_name": "Python 3",
   "language": "python",
   "name": "python3"
  },
  "language_info": {
   "codemirror_mode": {
    "name": "ipython",
    "version": 3
   },
   "file_extension": ".py",
   "mimetype": "text/x-python",
   "name": "python",
   "nbconvert_exporter": "python",
   "pygments_lexer": "ipython3",
   "version": "3.6.6"
  }
 },
 "nbformat": 4,
 "nbformat_minor": 2
}
